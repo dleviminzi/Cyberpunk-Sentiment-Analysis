{
 "metadata": {
  "language_info": {
   "codemirror_mode": {
    "name": "ipython",
    "version": 3
   },
   "file_extension": ".py",
   "mimetype": "text/x-python",
   "name": "python",
   "nbconvert_exporter": "python",
   "pygments_lexer": "ipython3",
   "version": "3.7.9-final"
  },
  "orig_nbformat": 2,
  "kernelspec": {
   "name": "python3",
   "display_name": "Python 3.7.9 64-bit ('finn': conda)",
   "metadata": {
    "interpreter": {
     "hash": "c7acbce015e6cf9a9d8ed8c442b5380e4297fbcb6aa2773339c0a55d69bd10c4"
    }
   }
  }
 },
 "nbformat": 4,
 "nbformat_minor": 2,
 "cells": [
  {
   "source": [
    "## Preview Dataset"
   ],
   "cell_type": "markdown",
   "metadata": {}
  },
  {
   "cell_type": "code",
   "execution_count": 3,
   "metadata": {},
   "outputs": [],
   "source": [
    "import pandas as pd"
   ]
  },
  {
   "cell_type": "code",
   "execution_count": 9,
   "metadata": {},
   "outputs": [],
   "source": [
    "# this is just a preview; the data is already split in train and test sets\n",
    "df = pd.read_csv('../raw_data/steamset_cleaned.csv')\n",
    "df = df[['review', 'sentiment']]"
   ]
  },
  {
   "cell_type": "code",
   "execution_count": 10,
   "metadata": {},
   "outputs": [
    {
     "output_type": "execute_result",
     "data": {
      "text/plain": [
       "                                              review  sentiment\n",
       "0  i think that games based on nuclear war beyond...          1\n",
       "1  man ever since this second dlc was dropped, (t...          0\n",
       "2  tl;dr - what's available right now leaves me w...          1\n",
       "3  great small game. is not worth it's price. bes...          1\n",
       "4  this game, in my personal opinion, is amazing....          1"
      ],
      "text/html": "<div>\n<style scoped>\n    .dataframe tbody tr th:only-of-type {\n        vertical-align: middle;\n    }\n\n    .dataframe tbody tr th {\n        vertical-align: top;\n    }\n\n    .dataframe thead th {\n        text-align: right;\n    }\n</style>\n<table border=\"1\" class=\"dataframe\">\n  <thead>\n    <tr style=\"text-align: right;\">\n      <th></th>\n      <th>review</th>\n      <th>sentiment</th>\n    </tr>\n  </thead>\n  <tbody>\n    <tr>\n      <th>0</th>\n      <td>i think that games based on nuclear war beyond...</td>\n      <td>1</td>\n    </tr>\n    <tr>\n      <th>1</th>\n      <td>man ever since this second dlc was dropped, (t...</td>\n      <td>0</td>\n    </tr>\n    <tr>\n      <th>2</th>\n      <td>tl;dr - what's available right now leaves me w...</td>\n      <td>1</td>\n    </tr>\n    <tr>\n      <th>3</th>\n      <td>great small game. is not worth it's price. bes...</td>\n      <td>1</td>\n    </tr>\n    <tr>\n      <th>4</th>\n      <td>this game, in my personal opinion, is amazing....</td>\n      <td>1</td>\n    </tr>\n  </tbody>\n</table>\n</div>"
     },
     "metadata": {},
     "execution_count": 10
    }
   ],
   "source": [
    "df.head()"
   ]
  },
  {
   "source": [
    "## Load Dataset w/ TorchText"
   ],
   "cell_type": "markdown",
   "metadata": {}
  },
  {
   "cell_type": "code",
   "execution_count": 6,
   "metadata": {},
   "outputs": [],
   "source": [
    "import spacy                # for tokenizer\n",
    "from torchtext import data"
   ]
  },
  {
   "cell_type": "code",
   "execution_count": 7,
   "metadata": {},
   "outputs": [],
   "source": [
    "# defining tokenizer\n",
    "nlp = spacy.load('en_core_web_sm', disable=['parser', 'tagger', 'ner'])\n",
    "\n",
    "def tokenizer(s):\n",
    "    return [w.text.lower() for w in nlp(s)]"
   ]
  },
  {
   "cell_type": "code",
   "execution_count": 12,
   "metadata": {},
   "outputs": [],
   "source": [
    "# the two columns we will be using: text(review), label(sentiment)\n",
    "txt_field = data.Field(sequential=True,\n",
    "                       use_vocab=True,\n",
    "                       tokenize=tokenizer,\n",
    "                       include_lengths=True)\n",
    "\n",
    "lbl_field = data.Field(sequential=False,\n",
    "                       use_vocab=False,\n",
    "                       pad_token=None,\n",
    "                       unk_token=None)\n",
    "\n",
    "fields = [\n",
    "    ('review', txt_field),\n",
    "    ('sentiment', lbl_field)\n",
    "]"
   ]
  },
  {
   "cell_type": "code",
   "execution_count": 14,
   "metadata": {},
   "outputs": [],
   "source": [
    "# load up the train and validation sets\n",
    "train_ds, val_ds = data.TabularDataset.splits(path='../raw_data',\n",
    "                                              format='csv',\n",
    "                                              train='train.csv',\n",
    "                                              validation='validate.csv',\n",
    "                                              fields=fields,\n",
    "                                              skip_header=False)"
   ]
  },
  {
   "cell_type": "code",
   "execution_count": null,
   "metadata": {},
   "outputs": [],
   "source": []
  }
 ]
}