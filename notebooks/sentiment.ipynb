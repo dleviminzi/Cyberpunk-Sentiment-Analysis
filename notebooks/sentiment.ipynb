{
 "metadata": {
  "language_info": {
   "codemirror_mode": {
    "name": "ipython",
    "version": 3
   },
   "file_extension": ".py",
   "mimetype": "text/x-python",
   "name": "python",
   "nbconvert_exporter": "python",
   "pygments_lexer": "ipython3",
   "version": "3.7.9-final"
  },
  "orig_nbformat": 2,
  "kernelspec": {
   "name": "finn",
   "display_name": "finn",
   "language": "python"
  }
 },
 "nbformat": 4,
 "nbformat_minor": 2,
 "cells": [
  {
   "cell_type": "code",
   "execution_count": 1,
   "metadata": {},
   "outputs": [],
   "source": [
    "import pandas as pd"
   ]
  },
  {
   "cell_type": "code",
   "execution_count": 39,
   "metadata": {},
   "outputs": [
    {
     "output_type": "execute_result",
     "data": {
      "text/plain": [
       "6.5"
      ]
     },
     "metadata": {},
     "execution_count": 39
    }
   ],
   "source": [
    "df = pd.read_csv('../raw_data/gamespot_game_reviews.csv')\n",
    "df['score'].median()"
   ]
  },
  {
   "cell_type": "code",
   "execution_count": 41,
   "metadata": {},
   "outputs": [
    {
     "output_type": "execute_result",
     "data": {
      "text/plain": [
       "   Unnamed: 0                                    name  score  \\\n",
       "0           0                           Chrono Cross    10.0   \n",
       "1           1  Legend of Zelda: Ocarina of Time, The    10.0   \n",
       "\n",
       "                                             tagline  \\\n",
       "0   Chrono Cross may not have had the largest bud...   \n",
       "1   Ocarina of Time definitely follows in the foo...   \n",
       "\n",
       "                                              boxart system  \\\n",
       "0  https://gamespot1.cbsistatic.com/uploads/scale...     PS   \n",
       "1  https://gamespot1.cbsistatic.com/uploads/scale...    N64   \n",
       "\n",
       "                                                link classifier  \\\n",
       "0  https://www.gamespot.com/reviews/chrono-cross-...        pos   \n",
       "1  https://www.gamespot.com/reviews/legend-of-zel...        pos   \n",
       "\n",
       "                                             article  \\\n",
       "0  \\nSquare's Chrono Trigger got everything right...   \n",
       "1  \\nThe Legend of Zelda is one of those magical ...   \n",
       "\n",
       "                                    filtered article  polarity  subjectivity  \n",
       "0  ['Square', \"'s\", 'Chrono', 'Trigger', 'got', '...  0.164573      0.499311  \n",
       "1  ['The', 'Legend', 'Zelda', 'one', 'magical', '...  0.066364      0.480934  "
      ],
      "text/html": "<div>\n<style scoped>\n    .dataframe tbody tr th:only-of-type {\n        vertical-align: middle;\n    }\n\n    .dataframe tbody tr th {\n        vertical-align: top;\n    }\n\n    .dataframe thead th {\n        text-align: right;\n    }\n</style>\n<table border=\"1\" class=\"dataframe\">\n  <thead>\n    <tr style=\"text-align: right;\">\n      <th></th>\n      <th>Unnamed: 0</th>\n      <th>name</th>\n      <th>score</th>\n      <th>tagline</th>\n      <th>boxart</th>\n      <th>system</th>\n      <th>link</th>\n      <th>classifier</th>\n      <th>article</th>\n      <th>filtered article</th>\n      <th>polarity</th>\n      <th>subjectivity</th>\n    </tr>\n  </thead>\n  <tbody>\n    <tr>\n      <th>0</th>\n      <td>0</td>\n      <td>Chrono Cross</td>\n      <td>10.0</td>\n      <td>Chrono Cross may not have had the largest bud...</td>\n      <td>https://gamespot1.cbsistatic.com/uploads/scale...</td>\n      <td>PS</td>\n      <td>https://www.gamespot.com/reviews/chrono-cross-...</td>\n      <td>pos</td>\n      <td>\\nSquare's Chrono Trigger got everything right...</td>\n      <td>['Square', \"'s\", 'Chrono', 'Trigger', 'got', '...</td>\n      <td>0.164573</td>\n      <td>0.499311</td>\n    </tr>\n    <tr>\n      <th>1</th>\n      <td>1</td>\n      <td>Legend of Zelda: Ocarina of Time, The</td>\n      <td>10.0</td>\n      <td>Ocarina of Time definitely follows in the foo...</td>\n      <td>https://gamespot1.cbsistatic.com/uploads/scale...</td>\n      <td>N64</td>\n      <td>https://www.gamespot.com/reviews/legend-of-zel...</td>\n      <td>pos</td>\n      <td>\\nThe Legend of Zelda is one of those magical ...</td>\n      <td>['The', 'Legend', 'Zelda', 'one', 'magical', '...</td>\n      <td>0.066364</td>\n      <td>0.480934</td>\n    </tr>\n  </tbody>\n</table>\n</div>"
     },
     "metadata": {},
     "execution_count": 41
    }
   ],
   "source": [
    "df.head(2)"
   ]
  },
  {
   "cell_type": "code",
   "execution_count": 42,
   "metadata": {},
   "outputs": [
    {
     "output_type": "execute_result",
     "data": {
      "text/plain": [
       "'\\nLet\\'s get one thing out of the way: Soul Calibur is the best 3D fighting game ever released in the arcades. Better than Virtua Fighter 3. Better than Tekken 3. If that weren\\'t enough, the Dreamcast version one-ups the original arcade release in just about every way imaginable. Now that we\\'ve established that, let\\'s explore why, and what it is about the Dreamcast version that raises the bar on fighting games in general.    From its debut at the 1998 Electronics Entertainment Expo, tucked away in a remote corner of Namco\\'s booth, it was obvious that Soul Calibur was something special. Namco had pushed the PlayStation-based System 12 hardware farther than anyone had a right to expect from such a modest chipset. Namco took what it had learned from Tekken 3 and built on the ambitious, but limited, Soul Edge fighting engine. Soul Calibur was not only a substantial leap in graphics, but in gameplay as well. Employing a new eight-way directional system in conjunction with a physics engine that took weapon weight into account, Soul Calibur\\'s gameplay reached new heights in both complexity and depth. Perhaps one of the most crucial additions was the inclusion of the tech-roll found in Tekken 3. No more lying on the ground as your opponent rained down attacks from the sky. Just a quick tap of the guard button and you were back on your feet, quick as a whistle. Graphically, the game was a fireworks display of particle effects, complex polygonal character models, and a light-sourcing tour de force, all running at a blazing 60 frames-per-second.    The short of it is, if you haven\\'t played Soul Calibur, you need to. For sheer adrenaline working in tandem with eye-melting graphics, nothing could touch it. What then, does the Dreamcast version (Namco\\'s first \"real\" game developed for archrival Sega in ages) of Soul Calibur do to leapfrog past its arcade counterpart in every way possible?    To begin with, the most obvious enhancement are the graphics. Despite the lack of a prerendered FMV intro, the likes of which we\\'re used to seeing from Namco, the opening offered here will drop more jaws than Muhammed Ali. Think of the intros usually seen in Capcom games like Marvel vs. Capcom, but rendered in full, hi-res, 60fps 3D (with a splash of Samurai Shodown thrown in for good measure), and you\\'re not even close to imagining how awesome the intro to Soul Calibur for the DC looks. Picture a first-person camera zooming in over some sandy horizon, as weapons slam into the foreground. Keep going until the weapons are replaced by a swiftly approaching Kilik (the staff user in SC). Trigger an impressive sequence of character cameos and a dynamic soundtrack, and there you have it. This has to be seen in person to appreciate. It looks so good it might as well be CG, because five years ago, graphics like these were impossible. The reason the arcade version couldn\\'t be ported home to the PlayStation was due to hardware limitations. Despite the fine conversion of Tekken 3 to the PlayStation, Soul Calibur on System-12 used an extremely high amount of RAM to enable effects like Z-buffering and other processor-taxing effects - effects that were not present in Tekken 3. The Dreamcast, on the other hand, represented the perfect solution to Namco\\'s problems. With hardware roughly ten times as powerful as the PlayStation, the DC can not only manage Soul Calibur\\'s graphic fireworks, but also enhance them by leaps and bounds. With characters boasting not only improved polygon counts, but high-resolution textures, each member of Soul Calibur moves around each stage looking larger, tougher, more solid, and more detailed than ever before. For example, Astaroth\\'s alternate costume sprouts Godzilla-like spikes out of his back (these spikes wobble as he moves), along with a tall Alfalfa-esque hairdo that swings and sways depending on what direction he\\'s moving in. Soul Edge alumni and Siegfried\\'s alter ego, Nightmare, wields the Soul Edge itself, with an eyeball set in the center that looks around at the proceedings independently of the sword. Details like hair, clothing, and accessories all move in rhythm with an extremely realistic physics model. Improving the quality of the characters wasn\\'t enough for Namco\\'s programmers though. They also added a muscle-flexing system that causes pectorals to ripple during victory poses, breasts and buttocks to jiggle realistically (read: subtle, not exaggerated as in Dead or Alive), and skin to stretch in a most natural way, with not a polygon tear in sight. These characters look incredible, and some benefit from the enhancements more than others (Lizardman\\'s tail no longer looks like a polygonal mess). Everything looks perfectly smooth (especially faces), with minimal blockiness, putting the models in VF3tb to shame. This is an extremely solid-looking game. The characters have also been outfitted with an extensive set of facial expressions that add greatly to the game experience. Take Mitsurugi, for example. With every sword slash accompanied by a grunt or yell, his face synchronizes the appropriate expression as well. Even during win poses, each character mouths his own victory speech. Even little things like fingers are individually rendered.Weapons are also impressive enough to simply sit back and watch: The blades on Voldo\\'s twin katars move independently; Kilik\\'s bo flexes with each swing; and metallic weapons like Mitsurugi\\'s sword feature specular highlighting (think Gran Turismo, but better) that reflects the environment around it. Other things, like head tracking, dust clouds kicked up by the characters\\' feet, and amazing real-time shadows (check out Ivy\\'s flaccid whip-sword in practice mode for a good idea of how cool simple shadows can be), round out the visual impact. Soul Calibur is so detail-intensive that even your character\\'s breath can be seen on some stages. However, what good are beautiful-looking characters without beautiful-looking stages for them to jump around on? With the power of the Dreamcast, Namco didn\\'t have to make compromises here, as they had in the PlayStation version of Tekken 3. All the 3D backgrounds of the arcade version are reproduced faithfully here. Perhaps \"faithfully\" is the wrong word though, since every texture has been rerendered in an ultra-high resolution. Additional 3D elements have been included to give the game some of the most stunning locales ever seen. Structures far back in the distance look as crisp as the details closer to you. Stages like Yoshimitsu\\'s Water Vein, which places you on a raft speeding down an underground river, is nothing short of breathtaking. If it\\'s architecture you crave, then one glimpse at Siegrfried\\'s City of Water, replete with eye-searing sun flares, or the Indian Port with its distant temples, all rendered in 3D, will have you near tears. Extra touches like the rats in Voldo\\'s stage or weather effects like rain are in abundance too. Despite the complexity and size of the backgrounds, there is never so much as a stutter in the frame rate. Amazing.    Beyond the obvious visual enhancements are the sound and soundtrack supporting it. Making good use of the Dreamcast\\'s powerful Yamaha soundboard, Soul Calibur cranks out crystal-clear weapon effects, recorded at the highest sample rates. While certain effects (like falling in the water) lack some clarity, it\\'s hardly as important as the metallic clanging you hear. Other ambient sounds like footsteps take on a different tone depending on whether you\\'re running on stone or wood. Voice samples are also extremely clear, currently spoken in robust Japanese. The music is an appropriately medieval-sounding score, presumably recorded with a full symphonic orchestra. The numerous compositions have been written with a dynamically epic feel, although there are moments when the cacophony takes a backseat to quieter, more florid pieces.    As far as the line-up is concerned, original members Mitsurugi, Taki, Voldo, and Sophitia return for another go, while newcomers Xianghua, Kilik, Maxi, Nightmare, and Astaroth bring up the rear. The majority of the newcomers are enhanced clones of the characters they replaced from the Soul Edge (Xianghua = Hwang Sung Kyung, Kilik = Seung Mina, Maxi = Li Long, Nightmare = Siegfried, Astaroth = Rock), although those characters (with the exception of Li Long) are all hidden in the game as secret combatants. Other notable additions to the roster include Lizardman, Edge Master, and Tekken stalwart, Yoshimitsu. The interesting thing about Yoshimitsu is that this is probably the first time you\\'ll ever see him effectively use his weapon. In Tekken he looks more like he\\'s punching with a sword in his hand. Here he really goes for it, slicing and dicing with his sword, although some of his throw moves are the same. Edge Master is essentially like the final boss, Inferno, in that he uses a different weapon and move set every time, making your knowledge of each warrior\\'s arsenal important. He\\'s also fast as hell, making him an extremely dangerous opponent. Also improved from the original arcade release is something Namco\\'s designers wanted to implement, but couldn\\'t, due to the System-12\\'s hardware limitations: improved character motions and an increased number of moves. While this may throw off some gamers used to the arcade version, it quickly becomes apparent that these changes are subtle, keeping the original gameplay intact, while enriching the experience.What most gamers curious about Soul Calibur will want to know are what sort of exclusive features are included. Namco, after all, is known for its superlative home conversions, adding awesome modes and numerous other features, which vastly increases the replay value of the usually short arcade experience. Aside from the usual arcade mode, there are versus, team battle, time attack, survival, extra survival, practice, Internet, mission battle, and museum modes. While the majority of these modes are by now considered staples in the fighting game genre, the mission and museum modes that will pique most people\\'s interest. Like the Edge Master mode in Soul Blade (the PlayStation version of Soul Edge), mission battle tests your all-around skill in a variety of settings. You execute the fundamental moves (throws, guard cancels, etc.) against the Edge Master, who acts as your tutor, or fight against numerous opponents. Unlike Soul Blade, which rewarded you with a wide assortment of weapons with practically every task completed, the mission battle mode instead rewards you with points. These points can then be \"cashed in\" at the museum. The museum mode features an extensive art gallery filled with black-and-white drawings, anime-style artwork, and CG renders. To unlock all the artwork, you will be playing for a very long time indeed. \"Buy\" enough of these pictures and you\\'ll unlock all kinds of things, including new character outfits, new stages, a character-profile option, and a lot more. The character-profile option lets you view the characters in any of their costumes, from almost any angle, while checking out the stats on their weapons, their history, and their stage. You can also listen to their voice samples while watching the characters faces lip-sync, as well as view their endings. Very, very cool stuff. Another point of interest is how well the Dreamcast controller would emulate the arcade control. The answer is: incredibly well. Considering the DC pad has roughly the same layout as the PlayStation controller, which is what the Soul Edge/Calibur button layout is based on, it\\'s hard to imagine anyone having problems with this setup. You can use either the analog pad or the digital pad. The D-pad seems to work a little better since the game relies on precise inputs, making the analog pad seem a little too loose for this game. However, some may find it preferable, so, thankfully it is an option. Response times are right on the money, with sole character Maxi seemingly a problem. The difficulty in using Maxi (the nunchaku expert) is that his motion-capture sequences often continue without your deliberate input, making him a tricky character to control. This is a game-design issue, rather than a controller issue, so once you master Maxi, anticipating his quirks will most likely be compensated for. Team-battle mode allows you to choose anywhere from one to eight characters, for a possible eight-on-eight melee (King of Fighters style). Internet mode, unfortunately, does not permit you to play your friends online, but instead forwards you to a Soul Calibur web page where you can view more gallery-style images and whatnot.    With all this technological wonder going on, you might wonder if there are any quibbles at large. Not really. Perhaps the only areas of the game that are mildly disappointing are the endings, which consist of some text and a couple of black-and-white drawings. This, however, is more of a wish than a detriment, and doesn\\'t take away from the game at all. An extensive weapons collection, like the one in Soul Edge, would have been nice, but perhaps there\\'s one buried deep in the many layers of this game. As it is, this is truly a flawless game. In years past, Namco has built a bulletproof reputation for delivering arcade-perfect conversions of their already excellent arcade games into your home, with a gaggle of consumer-exclusive features that made you want to cry out of happiness. In the case of Soul Calibur, Sega should be crying tears of joy. Namco has amply displayed exactly how conversions of this nature should be done. This time, however, the \"house that Pac-Man built\" has done even better. This time around it has taken the best 3D fighter out of the arcades, given it a major facelift, and reshaped it until it was light years beyond the original, both graphically and in terms of value, and then brought it home for under 50 bucks. And the company has made only scant changes to bring the game to the states. The voices in the US version are indeed the same as in the Japanese version, but now there is an option to turn on English subtitles; one of Voldo\\'s outfits has had its crotch spikes removed; and the Internet mode is gone. So Soul Calibur has reached US shores virtually unscathed, keeping it the game that will show the world how powerful the Dreamcast really is. Kicking out an unprecedented number of special effects at an unassailable 60fps, all in mega-high resolution, with supercharged gameplay nailing it all down, the only way this game will look any better is to play it using Sega\\'s PC monitor-compatible VGA box. If you have one of those, the game is on a completely different visual level than anything else out there. While it may seem bandwagon-esque to say this game is worthy of a perfect score, it really isn\\'t much of a stretch to say it is. Yes, it is a fighting game, a genre with a fairly limited scope, but insofar as fighting games go, Soul Calibur is mind-numbing perfection. Namco has taken the best and made it considerably better. The level at which the company has done so is practically unprecedented. Think state of the art. Absolutely brilliant in all aspects, as far as games of this type go, Soul Calibur is the undisputed king of the hill. It is essential in any gamer\\'s collection.\\n '"
      ]
     },
     "metadata": {},
     "execution_count": 42
    }
   ],
   "source": [
    "# two options again:\n",
    "# 1. cluster around scores \n",
    "# 2. try to predit score\n",
    "\n",
    "\n",
    "df['article'][2]"
   ]
  },
  {
   "cell_type": "code",
   "execution_count": 47,
   "metadata": {},
   "outputs": [
    {
     "output_type": "stream",
     "name": "stderr",
     "text": [
      "[nltk_data] Downloading package punkt to /Users/dminzi-lt/nltk_data...\n",
      "[nltk_data]   Package punkt is already up-to-date!\n",
      "[nltk_data] Downloading package averaged_perceptron_tagger to\n",
      "[nltk_data]     /Users/dminzi-lt/nltk_data...\n",
      "[nltk_data]   Unzipping taggers/averaged_perceptron_tagger.zip.\n"
     ]
    },
    {
     "output_type": "execute_result",
     "data": {
      "text/plain": [
       "True"
      ]
     },
     "metadata": {},
     "execution_count": 47
    }
   ],
   "source": [
    "import nltk\n",
    "nltk.download('punkt')\n",
    "nltk.download('averaged_perceptron_tagger')"
   ]
  },
  {
   "cell_type": "code",
   "execution_count": 50,
   "metadata": {},
   "outputs": [],
   "source": [
    "from textblob import TextBlob\n",
    "\n",
    "def get_adjectives(text):\n",
    "    blob = TextBlob(str(text))\n",
    "    return [ word for (word,tag) in blob.tags if tag == \"JJ\"]\n",
    "\n",
    "df['adjectives'] = df['article'].apply(get_adjectives)"
   ]
  },
  {
   "cell_type": "code",
   "execution_count": 53,
   "metadata": {},
   "outputs": [
    {
     "output_type": "execute_result",
     "data": {
      "text/plain": [
       "['self-proclaimed',\n",
       " 'scenarist',\n",
       " 'enjoyable',\n",
       " 'memorable',\n",
       " 'solid',\n",
       " 'unparalleled',\n",
       " 'much',\n",
       " 'legendary',\n",
       " 'grim',\n",
       " 'playable',\n",
       " 'many',\n",
       " 'coherent',\n",
       " 'first',\n",
       " 'different',\n",
       " 'instant',\n",
       " 'parallel',\n",
       " 'mysterious',\n",
       " 'rowdy',\n",
       " 'mysterious',\n",
       " 'enigmatic',\n",
       " 'regal',\n",
       " 'own',\n",
       " 'ultimate',\n",
       " 'excellent',\n",
       " 'difficult',\n",
       " 'original',\n",
       " 'valid',\n",
       " 'separate',\n",
       " 'well-developed',\n",
       " 'first',\n",
       " 'original',\n",
       " 'much',\n",
       " 'taciturn',\n",
       " 'interdimensional',\n",
       " 'new',\n",
       " 'ineffable',\n",
       " 'traditional',\n",
       " 'active',\n",
       " 'stamina',\n",
       " 'turn-based',\n",
       " 'single',\n",
       " 'weak',\n",
       " 'strong',\n",
       " 'frantic',\n",
       " 'real-time',\n",
       " 'black',\n",
       " 'white',\n",
       " 'red',\n",
       " 'blue',\n",
       " 'green',\n",
       " 'yellow',\n",
       " 'certain',\n",
       " 'acceptable',\n",
       " 'empty',\n",
       " 'element',\n",
       " '5+/-2',\n",
       " 'level',\n",
       " 'weak',\n",
       " 'strong',\n",
       " 'sufficient',\n",
       " 'stamina',\n",
       " 'dynamic',\n",
       " 'total',\n",
       " 'other',\n",
       " 'dual',\n",
       " 'original',\n",
       " 'special',\n",
       " 'dual',\n",
       " 'dual',\n",
       " 'prevalent',\n",
       " 'last',\n",
       " 'single',\n",
       " 'statistical',\n",
       " 'monochromatic',\n",
       " 'only',\n",
       " 'mighty',\n",
       " 'single',\n",
       " 'battle-friendly',\n",
       " 'visible',\n",
       " 'onscreen',\n",
       " 'easy',\n",
       " '100-percent',\n",
       " 'red',\n",
       " 'console',\n",
       " 'last',\n",
       " 'free',\n",
       " 'available',\n",
       " 'necessary',\n",
       " 'post-battle',\n",
       " 'key',\n",
       " 'old-school',\n",
       " 'console',\n",
       " 'endless',\n",
       " 'secret',\n",
       " 'last',\n",
       " '40-plus',\n",
       " 'unique',\n",
       " 'story-driven',\n",
       " 'valuable',\n",
       " 'many',\n",
       " 'interesting',\n",
       " 'worthy',\n",
       " 'beautiful',\n",
       " 'unique',\n",
       " 'special',\n",
       " 'special',\n",
       " 'extra',\n",
       " 'own',\n",
       " 'disposable',\n",
       " 'surprising',\n",
       " 'unique',\n",
       " 'assorted',\n",
       " 'other',\n",
       " 'own',\n",
       " 'own',\n",
       " 'special',\n",
       " 'many',\n",
       " 'certain',\n",
       " 'incredible',\n",
       " 'comprehensive',\n",
       " 'uniquely',\n",
       " 'English',\n",
       " 'Japanese',\n",
       " 'social',\n",
       " 'politeness',\n",
       " 'forth',\n",
       " 'easy',\n",
       " 'impossible',\n",
       " 'straight',\n",
       " 'first',\n",
       " 'foul-mouthed',\n",
       " 'Australian',\n",
       " 'French',\n",
       " 'short',\n",
       " 'glossy',\n",
       " 'polished',\n",
       " 'organic',\n",
       " 'former',\n",
       " 'perfect',\n",
       " 'creative',\n",
       " 'right',\n",
       " 'ambient',\n",
       " 'small',\n",
       " 'large',\n",
       " 'epic',\n",
       " 'detailed',\n",
       " 'slight',\n",
       " 'excellent',\n",
       " 'many',\n",
       " 'down-to-earth',\n",
       " 'personal',\n",
       " 'gritty',\n",
       " 'worn',\n",
       " 'just-constructed',\n",
       " 'excellent',\n",
       " 'great',\n",
       " 'Special',\n",
       " 'impressive',\n",
       " 'over-the-top',\n",
       " 'short',\n",
       " 'fast',\n",
       " 'Sound',\n",
       " 'gorgeous',\n",
       " 'many',\n",
       " 'favorite',\n",
       " 'sample',\n",
       " 'outstanding',\n",
       " 'emotional',\n",
       " 'playful',\n",
       " 'mambo',\n",
       " 'violin',\n",
       " 'many',\n",
       " 'new',\n",
       " 'unique',\n",
       " 'other',\n",
       " 'three-',\n",
       " 'four-note',\n",
       " 'devoted',\n",
       " 'all-out',\n",
       " '16-bit',\n",
       " 'multimillion']"
      ]
     },
     "metadata": {},
     "execution_count": 53
    }
   ],
   "source": [
    "# this'll do \n",
    "df['adjectives'][0]"
   ]
  },
  {
   "cell_type": "code",
   "execution_count": null,
   "metadata": {},
   "outputs": [],
   "source": []
  }
 ]
}